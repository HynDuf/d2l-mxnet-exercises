{
 "cells": [
  {
   "cell_type": "markdown",
   "id": "e4e8fb76",
   "metadata": {},
   "source": [
    "# About\n",
    "- Date: 28/09/2022\n",
    "- Pages: 76"
   ]
  },
  {
   "cell_type": "markdown",
   "id": "13923072",
   "metadata": {},
   "source": [
    "## Exercise 1\n",
    "We have $A_{i, j} = (A^T)_{j, i}$ and $(A^T)_{j, i} = ((A^T)^T)_{i, j}$.\n",
    "\n",
    "Which means $A_{i,j} = ((A^T)^T)_{i, j} \\Rightarrow A = (A^T)^T$."
   ]
  },
  {
   "cell_type": "markdown",
   "id": "87d21675",
   "metadata": {},
   "source": [
    "## Exercise 2\n",
    "For every $(i, j)$ we have: $$\\left(A^T + B^T\\right)_{i, j} = \\left(A^T\\right)_{i, j} + \\left(B^T\\right)_{i, j} = A_{j, i} + B_{j,i} = \\left(A + B\\right)_{j, i} = \\left(\\left(A+B\\right)^T\\right)_{i, j}$$\n",
    "$\\Rightarrow A^T + B^T = \\left(A+B\\right)^T$"
   ]
  },
  {
   "cell_type": "markdown",
   "id": "329d2cb3",
   "metadata": {},
   "source": [
    "## Exercise 3\n",
    "$$\\left(A + A^T\\right)^T = A^T + \\left(A^T\\right)^T = A + A^T$$\n",
    "$\\Rightarrow$ Symmetry proved"
   ]
  },
  {
   "cell_type": "markdown",
   "id": "2f84bbe5",
   "metadata": {},
   "source": [
    "## Exercise 4\n",
    "`len(X)` would return `2` I think.\n",
    "\n",
    "Let's test it:"
   ]
  },
  {
   "cell_type": "code",
   "execution_count": 212,
   "id": "d3948741",
   "metadata": {},
   "outputs": [
    {
     "data": {
      "text/plain": [
       "(2, 3, 4, array([23.]))"
      ]
     },
     "execution_count": 212,
     "metadata": {},
     "output_type": "execute_result"
    }
   ],
   "source": [
    "from mxnet import np\n",
    "\n",
    "X = np.arange(24).reshape(2, 3, 4)\n",
    "len(X), len(X[0]), len(X[0][0]), X[1][2][3]"
   ]
  },
  {
   "cell_type": "markdown",
   "id": "2138817b",
   "metadata": {},
   "source": [
    "Yes, correct. Same with the ideology of `vector` in C++."
   ]
  },
  {
   "cell_type": "markdown",
   "id": "c556ed0b",
   "metadata": {},
   "source": [
    "## Exercise 5\n",
    "`len(X)` corresponds to the length of the first axis (axis 0).\n",
    "## Exercise 6"
   ]
  },
  {
   "cell_type": "code",
   "execution_count": 213,
   "id": "c5c7229e",
   "metadata": {},
   "outputs": [
    {
     "name": "stdout",
     "output_type": "stream",
     "text": [
      "(4,)\n"
     ]
    }
   ],
   "source": [
    "A = np.arange(24).reshape(4, 6)\n",
    "print(A.sum(axis=1).shape)\n",
    "# A / A.sum(axis=1)  --> This gives error"
   ]
  },
  {
   "cell_type": "markdown",
   "id": "66fda1de",
   "metadata": {},
   "source": [
    "This gives error when broadcasting as the shape of `A.sum(axis=1)` is `(4,)` which is a 1-dimension array and it can't be broadcasted.\n",
    "The correct code should be:"
   ]
  },
  {
   "cell_type": "code",
   "execution_count": 214,
   "id": "ca2e7f69",
   "metadata": {},
   "outputs": [
    {
     "data": {
      "text/plain": [
       "array([[0.        , 0.06666667, 0.13333334, 0.2       , 0.26666668,\n",
       "        0.33333334],\n",
       "       [0.11764706, 0.13725491, 0.15686275, 0.1764706 , 0.19607843,\n",
       "        0.21568628],\n",
       "       [0.13793103, 0.14942528, 0.16091955, 0.1724138 , 0.18390805,\n",
       "        0.1954023 ],\n",
       "       [0.14634146, 0.15447155, 0.16260162, 0.17073171, 0.17886178,\n",
       "        0.18699187]])"
      ]
     },
     "execution_count": 214,
     "metadata": {},
     "output_type": "execute_result"
    }
   ],
   "source": [
    "A / A.sum(axis=1, keepdims=True)"
   ]
  },
  {
   "cell_type": "markdown",
   "id": "24144888",
   "metadata": {},
   "source": [
    "## Exercise 7\n",
    "I don't really understand the question though."
   ]
  },
  {
   "cell_type": "markdown",
   "id": "b856c716",
   "metadata": {},
   "source": [
    "## Exercise 8\n",
    "- `axis=0`: `(3, 4)`\n",
    "- `axis=1`: `(2, 4)`\n",
    "- `axis=2`: `(2, 3)`"
   ]
  },
  {
   "cell_type": "code",
   "execution_count": 215,
   "id": "7ae79502",
   "metadata": {},
   "outputs": [
    {
     "data": {
      "text/plain": [
       "((3, 4), (2, 4), (2, 3))"
      ]
     },
     "execution_count": 215,
     "metadata": {},
     "output_type": "execute_result"
    }
   ],
   "source": [
    "X.sum(axis=0).shape, X.sum(axis=1).shape, X.sum(axis=2).shape"
   ]
  },
  {
   "cell_type": "markdown",
   "id": "f5e965d0",
   "metadata": {},
   "source": [
    "## Exercise 9"
   ]
  },
  {
   "cell_type": "code",
   "execution_count": 216,
   "id": "8df2f088",
   "metadata": {},
   "outputs": [
    {
     "data": {
      "text/plain": [
       "array(754.20154)"
      ]
     },
     "execution_count": 216,
     "metadata": {},
     "output_type": "execute_result"
    }
   ],
   "source": [
    "B = np.arange(120).reshape(1, 2, 3, 4, 5)\n",
    "np.linalg.norm(B)"
   ]
  },
  {
   "cell_type": "markdown",
   "id": "98e8d76a",
   "metadata": {},
   "source": [
    "This should be the same as $\\sqrt{ \\sum_{i=0}^{119}\\left(i^2\\right) }$:"
   ]
  },
  {
   "cell_type": "code",
   "execution_count": 217,
   "id": "5ec1c9b3",
   "metadata": {},
   "outputs": [
    {
     "data": {
      "text/plain": [
       "754.2015645701088"
      ]
     },
     "execution_count": 217,
     "metadata": {},
     "output_type": "execute_result"
    }
   ],
   "source": [
    "np.sqrt(int((B**2).sum()))"
   ]
  },
  {
   "cell_type": "markdown",
   "id": "1eab3e69",
   "metadata": {},
   "source": [
    "It just the square root of sum of all square of all element in the tensors"
   ]
  },
  {
   "cell_type": "markdown",
   "id": "4ca058ef",
   "metadata": {},
   "source": [
    "## Exercise 10\n",
    "- $\\left(AB\\right)C$: $2^{10}\\times 2^{16} \\times 2^5 + 2^{10}\\times 2^{5}\\times 2^{16} = 2^{32}$\n",
    "- $A\\left(BC\\right)$: $2^{16}\\times 2^{5}\\times 2^{16} + 2^{10}\\times 2^{16}\\times 2^{16} = 2^{42}+2^{37}$. This costs more because of matrix multiplication complexity."
   ]
  },
  {
   "cell_type": "markdown",
   "id": "ab375a75",
   "metadata": {},
   "source": [
    "## Exercise 11"
   ]
  },
  {
   "cell_type": "code",
   "execution_count": 218,
   "id": "f6011186",
   "metadata": {},
   "outputs": [
    {
     "name": "stdout",
     "output_type": "stream",
     "text": [
      "--- AB takes:            0.00017571449279785156 seconds ---\n",
      "--- AC^T takes:          0.0004589557647705078 seconds ---\n",
      "--- AC (C=B^T) takes:    0.00021696090698242188 seconds ---\n"
     ]
    }
   ],
   "source": [
    "import time\n",
    "\n",
    "A = np.random.normal(size=(2**10, 2**16))\n",
    "B = np.random.normal(size=(2**16, 2**5))\n",
    "C = np.random.normal(size=(2**5, 2**16))\n",
    "start_time = time.time()\n",
    "np.dot(A, B)\n",
    "print(\"--- AB takes:            %s seconds ---\" % (time.time() - start_time))\n",
    "start_time = time.time()\n",
    "np.dot(A, C.T)\n",
    "print(\"--- AC^T takes:          %s seconds ---\" % (time.time() - start_time))\n",
    "C = B.T\n",
    "start_time = time.time()\n",
    "np.dot(A, C.T)\n",
    "print(\"--- AC (C=B^T) takes:    %s seconds ---\" % (time.time() - start_time))"
   ]
  },
  {
   "cell_type": "markdown",
   "id": "7fc82572",
   "metadata": {},
   "source": [
    "It's faster like twice. I think maybe it's because the compiler knows `C.T` would equal to `B` anyway so it doesn't explicitly run `C^T` anymore."
   ]
  },
  {
   "cell_type": "markdown",
   "id": "e0db3b75",
   "metadata": {},
   "source": [
    "## Exercise 12"
   ]
  },
  {
   "cell_type": "code",
   "execution_count": 219,
   "id": "1289c7b6",
   "metadata": {},
   "outputs": [
    {
     "data": {
      "text/plain": [
       "array([[2., 2., 2., ..., 2., 2., 2.],\n",
       "       [2., 2., 2., ..., 2., 2., 2.],\n",
       "       [2., 2., 2., ..., 2., 2., 2.],\n",
       "       ...,\n",
       "       [2., 2., 2., ..., 2., 2., 2.],\n",
       "       [2., 2., 2., ..., 2., 2., 2.],\n",
       "       [2., 2., 2., ..., 2., 2., 2.]])"
      ]
     },
     "execution_count": 219,
     "metadata": {},
     "output_type": "execute_result"
    }
   ],
   "source": [
    "A = np.full((100, 200), 1)\n",
    "B = np.full((100, 200), 2)\n",
    "C = np.full((100, 200), 3)\n",
    "D = np.stack(( A, B, C ), axis=-1)\n",
    "D[:, :,1]"
   ]
  },
  {
   "cell_type": "code",
   "execution_count": 220,
   "id": "7dbe0a8d",
   "metadata": {},
   "outputs": [
    {
     "data": {
      "text/plain": [
       "array([[2., 2., 2., ..., 2., 2., 2.],\n",
       "       [2., 2., 2., ..., 2., 2., 2.],\n",
       "       [2., 2., 2., ..., 2., 2., 2.],\n",
       "       ...,\n",
       "       [2., 2., 2., ..., 2., 2., 2.],\n",
       "       [2., 2., 2., ..., 2., 2., 2.],\n",
       "       [2., 2., 2., ..., 2., 2., 2.]])"
      ]
     },
     "execution_count": 220,
     "metadata": {},
     "output_type": "execute_result"
    }
   ],
   "source": [
    "B"
   ]
  }
 ],
 "metadata": {
  "kernelspec": {
   "display_name": "Python 3 (ipykernel)",
   "language": "python",
   "name": "python3"
  },
  "language_info": {
   "codemirror_mode": {
    "name": "ipython",
    "version": 3
   },
   "file_extension": ".py",
   "mimetype": "text/x-python",
   "name": "python",
   "nbconvert_exporter": "python",
   "pygments_lexer": "ipython3",
   "version": "3.9.13"
  }
 },
 "nbformat": 4,
 "nbformat_minor": 5
}
