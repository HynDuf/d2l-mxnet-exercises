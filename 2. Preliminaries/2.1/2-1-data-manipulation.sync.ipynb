{
 "cells": [
  {
   "cell_type": "markdown",
   "id": "b3204486",
   "metadata": {
    "lines_to_next_cell": 0,
    "region_name": "md"
   },
   "source": [
    "# About\n",
    "- Date: 27/09/2022\n",
    "- Pages: 63"
   ]
  },
  {
   "cell_type": "code",
   "execution_count": 1,
   "id": "ac78a897",
   "metadata": {
    "lines_to_next_cell": 0
   },
   "outputs": [],
   "source": [
    "from mxnet import np\n",
    "X = np.arange(12).reshape(3, 4)\n",
    "Y = np.array([[2, 1, 4, 3], [1, 3, 54, 1], [2, 4,1, 1]])"
   ]
  },
  {
   "cell_type": "markdown",
   "id": "c378be23",
   "metadata": {
    "lines_to_next_cell": 0,
    "region_name": "md"
   },
   "source": [
    "## Exercise 1\n",
    "The tensor we got is of `boolean` type with the same size as X and Y"
   ]
  },
  {
   "cell_type": "code",
   "execution_count": 2,
   "id": "34814734",
   "metadata": {
    "lines_to_next_cell": 0
   },
   "outputs": [
    {
     "data": {
      "text/plain": [
       "array([[ 0.,  1.,  2.,  3.],\n",
       "       [ 4.,  5.,  6.,  7.],\n",
       "       [ 8.,  9., 10., 11.]])"
      ]
     },
     "execution_count": 2,
     "metadata": {},
     "output_type": "execute_result"
    }
   ],
   "source": [
    "X"
   ]
  },
  {
   "cell_type": "code",
   "execution_count": 3,
   "id": "d9d535a0",
   "metadata": {
    "lines_to_next_cell": 0
   },
   "outputs": [
    {
     "data": {
      "text/plain": [
       "array([[ 2.,  1.,  4.,  3.],\n",
       "       [ 1.,  3., 54.,  1.],\n",
       "       [ 2.,  4.,  1.,  1.]])"
      ]
     },
     "execution_count": 3,
     "metadata": {},
     "output_type": "execute_result"
    }
   ],
   "source": [
    "Y"
   ]
  },
  {
   "cell_type": "code",
   "execution_count": 4,
   "id": "b7ea214c",
   "metadata": {
    "lines_to_next_cell": 0
   },
   "outputs": [
    {
     "data": {
      "text/plain": [
       "array([[False, False, False, False],\n",
       "       [ True,  True, False,  True],\n",
       "       [ True,  True,  True,  True]])"
      ]
     },
     "execution_count": 4,
     "metadata": {},
     "output_type": "execute_result"
    }
   ],
   "source": [
    "X > Y"
   ]
  },
  {
   "cell_type": "code",
   "execution_count": 5,
   "id": "a66c3c9f",
   "metadata": {
    "lines_to_next_cell": 0
   },
   "outputs": [
    {
     "data": {
      "text/plain": [
       "array([[ True, False,  True, False],\n",
       "       [False, False,  True, False],\n",
       "       [False, False, False, False]])"
      ]
     },
     "execution_count": 5,
     "metadata": {},
     "output_type": "execute_result"
    }
   ],
   "source": [
    "X < Y"
   ]
  },
  {
   "cell_type": "code",
   "execution_count": 6,
   "id": "2a9fe77c",
   "metadata": {
    "lines_to_next_cell": 0
   },
   "outputs": [
    {
     "data": {
      "text/plain": [
       "array([[False,  True, False,  True],\n",
       "       [False, False, False, False],\n",
       "       [False, False, False, False]])"
      ]
     },
     "execution_count": 6,
     "metadata": {},
     "output_type": "execute_result"
    }
   ],
   "source": [
    "X == Y"
   ]
  },
  {
   "cell_type": "markdown",
   "id": "c3a31246",
   "metadata": {
    "lines_to_next_cell": 0,
    "region_name": "md"
   },
   "source": [
    "## Exercise 2 \n",
    "- Broadcasting: Do element-wise binary operations even when shapes **differ**. \n",
    "\t- Requirement: a `1 x n` tensors with a `m x 1` tensors\n",
    "\t- What it do: It copy the 1 row (or column) into the desired shape `m x n` and do the normal element-wise operation.\n",
    "\t- Generalization for multidimensional tensors: `a_1 x a_2 x ... x a_n` with `b_1 x b_2 x ... x b_m`.\n",
    "\t\t- Requirement: `a_i == 1` or `b_i == 1` for every `i`.\n",
    "\t\t- Works like the 2 dimensional case."
   ]
  },
  {
   "cell_type": "code",
   "execution_count": 7,
   "id": "ea9b1d0b",
   "metadata": {
    "lines_to_next_cell": 0
   },
   "outputs": [],
   "source": [
    "X = np.arange(6).reshape(1, 6, 1)\n",
    "Y = np.arange(15).reshape(3, 1, 5)"
   ]
  },
  {
   "cell_type": "code",
   "execution_count": 8,
   "id": "705b1f22",
   "metadata": {
    "lines_to_next_cell": 0
   },
   "outputs": [
    {
     "data": {
      "text/plain": [
       "array([[[0.],\n",
       "        [1.],\n",
       "        [2.],\n",
       "        [3.],\n",
       "        [4.],\n",
       "        [5.]]])"
      ]
     },
     "execution_count": 8,
     "metadata": {},
     "output_type": "execute_result"
    }
   ],
   "source": [
    "X"
   ]
  },
  {
   "cell_type": "code",
   "execution_count": 9,
   "id": "7ef13569",
   "metadata": {
    "lines_to_next_cell": 0
   },
   "outputs": [
    {
     "data": {
      "text/plain": [
       "array([[[ 0.,  1.,  2.,  3.,  4.]],\n",
       "\n",
       "       [[ 5.,  6.,  7.,  8.,  9.]],\n",
       "\n",
       "       [[10., 11., 12., 13., 14.]]])"
      ]
     },
     "execution_count": 9,
     "metadata": {},
     "output_type": "execute_result"
    }
   ],
   "source": [
    "Y"
   ]
  },
  {
   "cell_type": "code",
   "execution_count": 10,
   "id": "54fcfe93",
   "metadata": {},
   "outputs": [
    {
     "name": "stdout",
     "output_type": "stream",
     "text": [
      "(3, 6, 5)\n"
     ]
    },
    {
     "data": {
      "text/plain": [
       "array([[[ 0.,  1.,  2.,  3.,  4.],\n",
       "        [ 1.,  2.,  3.,  4.,  5.],\n",
       "        [ 2.,  3.,  4.,  5.,  6.],\n",
       "        [ 3.,  4.,  5.,  6.,  7.],\n",
       "        [ 4.,  5.,  6.,  7.,  8.],\n",
       "        [ 5.,  6.,  7.,  8.,  9.]],\n",
       "\n",
       "       [[ 5.,  6.,  7.,  8.,  9.],\n",
       "        [ 6.,  7.,  8.,  9., 10.],\n",
       "        [ 7.,  8.,  9., 10., 11.],\n",
       "        [ 8.,  9., 10., 11., 12.],\n",
       "        [ 9., 10., 11., 12., 13.],\n",
       "        [10., 11., 12., 13., 14.]],\n",
       "\n",
       "       [[10., 11., 12., 13., 14.],\n",
       "        [11., 12., 13., 14., 15.],\n",
       "        [12., 13., 14., 15., 16.],\n",
       "        [13., 14., 15., 16., 17.],\n",
       "        [14., 15., 16., 17., 18.],\n",
       "        [15., 16., 17., 18., 19.]]])"
      ]
     },
     "execution_count": 10,
     "metadata": {},
     "output_type": "execute_result"
    }
   ],
   "source": [
    "T = X + Y\n",
    "print(T.shape)\n",
    "T"
   ]
  }
 ],
 "metadata": {
  "jupytext": {
   "cell_metadata_filter": "region_name,-all",
   "main_language": "python",
   "notebook_metadata_filter": "-all"
  },
  "kernelspec": {
   "display_name": "Python 3 (ipykernel)",
   "language": "python",
   "name": "python3"
  },
  "language_info": {
   "codemirror_mode": {
    "name": "ipython",
    "version": 3
   },
   "file_extension": ".py",
   "mimetype": "text/x-python",
   "name": "python",
   "nbconvert_exporter": "python",
   "pygments_lexer": "ipython3",
   "version": "3.9.13"
  }
 },
 "nbformat": 4,
 "nbformat_minor": 5
}
