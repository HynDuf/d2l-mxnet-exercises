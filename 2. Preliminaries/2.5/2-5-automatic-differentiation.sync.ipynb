{
 "cells": [
  {
   "cell_type": "markdown",
   "id": "8b3df126",
   "metadata": {},
   "source": [
    "# About:\n",
    "- Date: 04/10/2022\n",
    "- Pages: 86\n",
    "\n",
    "**Note**: This chapter was unexpectedly harder then the previous ones. This took me a few hours searching and reading about `autograd` of `mxnet` on the Internet."
   ]
  },
  {
   "cell_type": "markdown",
   "id": "d248ff6f",
   "metadata": {},
   "source": [
    "## Exercise 1\n",
    "Takes a function has $n$ parameters $f(\\boldsymbol{x})$ with $\\boldsymbol{x} = [x_1, x_2, \\dots, x_n]$.\n",
    "\n",
    "Its first derivative will be a vector of size $n$: $\\left[\\dfrac{\\partial f}{\\partial x_1}, \\dfrac{\\partial f}{\\partial x_2}, \\dots, \\dfrac{\\partial f}{\\partial x_n}\\right]$\n",
    "\n",
    "And its second derivative will be a matrix of size $n\\times n$ with elements: $\\dfrac{\\partial^2 f}{\\partial x_{1}^{2}}, \\dfrac{\\partial^2 f}{\\partial x_{1} \\partial x_{2}}, \\dots, \\dfrac{\\partial^2 f}{\\partial x_{1} \\partial x_n}, \\dfrac{\\partial^2 f}{\\partial x_{2} \\partial x_{1}}, \\dots, \\dfrac{\\partial^2 f}{\\partial x_{2}\\partial x_n}, \\dots$\n",
    "\n",
    "It is easy to see that computing $n^2$ second derivative terms would be significantly more expensive then computing $n$ first derivative terms."
   ]
  },
  {
   "cell_type": "markdown",
   "id": "6aadf14c",
   "metadata": {},
   "source": [
    "## Exercise 2"
   ]
  },
  {
   "cell_type": "code",
   "execution_count": 75,
   "id": "e6f868f8",
   "metadata": {
    "scrolled": true
   },
   "outputs": [
    {
     "data": {
      "text/plain": [
       "array([ 0.,  4.,  8., 12.])"
      ]
     },
     "execution_count": 75,
     "metadata": {},
     "output_type": "execute_result"
    }
   ],
   "source": [
    "from mxnet import autograd, np\n",
    "\n",
    "x = np.arange(4)\n",
    "x.attach_grad()\n",
    "with autograd.record():\n",
    "    y = 2 * x * x\n",
    "y.backward()\n",
    "x.grad"
   ]
  },
  {
   "cell_type": "code",
   "execution_count": 76,
   "id": "08cd40c6",
   "metadata": {},
   "outputs": [],
   "source": [
    "# y.backward()"
   ]
  },
  {
   "cell_type": "markdown",
   "id": "46f4baa3",
   "metadata": {},
   "source": [
    "It caused error because the first `y.backward()` call has already freed the computational graphs saved with `autograd.record()`.\n",
    "\n",
    "Add `retain_graph=true` to `y.backward()` to keep differentiating."
   ]
  },
  {
   "cell_type": "markdown",
   "id": "65e7b955",
   "metadata": {},
   "source": [
    "## Exercise 3"
   ]
  },
  {
   "cell_type": "code",
   "execution_count": 77,
   "id": "839a2854",
   "metadata": {},
   "outputs": [],
   "source": [
    "def f(a):\n",
    "    b = a * 2\n",
    "    while np.linalg.norm(b) < 1000:\n",
    "        b = b * 2\n",
    "    if b.sum() > 0:\n",
    "        c = b\n",
    "    else:\n",
    "        c = 100 * b\n",
    "    return c"
   ]
  },
  {
   "cell_type": "code",
   "execution_count": 78,
   "id": "0e911627",
   "metadata": {},
   "outputs": [
    {
     "data": {
      "text/plain": [
       "array([[0., 1., 2.],\n",
       "       [3., 4., 5.]])"
      ]
     },
     "execution_count": 78,
     "metadata": {},
     "output_type": "execute_result"
    }
   ],
   "source": [
    "a = np.arange(6).reshape(2, 3)\n",
    "a"
   ]
  },
  {
   "cell_type": "code",
   "execution_count": 79,
   "id": "688fd275",
   "metadata": {},
   "outputs": [
    {
     "data": {
      "text/plain": [
       "array([[256., 256., 256.],\n",
       "       [256., 256., 256.]])"
      ]
     },
     "execution_count": 79,
     "metadata": {},
     "output_type": "execute_result"
    }
   ],
   "source": [
    "a.attach_grad()\n",
    "with autograd.record():\n",
    "    d = f(a)\n",
    "d.backward()\n",
    "a.grad"
   ]
  },
  {
   "cell_type": "markdown",
   "id": "d0dbfe61",
   "metadata": {},
   "source": [
    "It works normally on each element of vector/matrix (as long as the `np.linalg.norm(b)` works normally)"
   ]
  },
  {
   "cell_type": "markdown",
   "id": "b991f4c8",
   "metadata": {},
   "source": [
    "## Exercise 4"
   ]
  },
  {
   "cell_type": "code",
   "execution_count": 80,
   "id": "a9286e26",
   "metadata": {},
   "outputs": [],
   "source": [
    "from d2l import mxnet as d2l\n",
    "from matplotlib_inline import backend_inline\n",
    "from mxnet import np, npx\n",
    "\n",
    "npx.set_np()\n",
    "\n",
    "\n",
    "def use_svg_display():\n",
    "    \"\"\"Use the svg format to display a plot in Jupyter.\"\"\"\n",
    "    backend_inline.set_matplotlib_formats('svg')\n",
    "\n",
    "\n",
    "def set_figsize(figsize=(3.5, 2.5)):\n",
    "    \"\"\"Set the figure size for matplotlib.\"\"\"\n",
    "    use_svg_display()\n",
    "    d2l.plt.rcParams['figure.figsize'] = figsize\n",
    "\n",
    "\n",
    "def set_axes(axes, xlabel, ylabel, xlim, ylim, xscale, yscale, legend):\n",
    "    \"\"\"Set the axes for matplotlib.\"\"\"\n",
    "    axes.set_xlabel(xlabel), axes.set_ylabel(ylabel)\n",
    "    axes.set_xscale(xscale), axes.set_yscale(yscale)\n",
    "    axes.set_xlim(xlim),\n",
    "    axes.set_ylim(ylim)\n",
    "    if legend:\n",
    "        axes.legend(legend)\n",
    "    axes.grid()\n",
    "\n",
    "\n",
    "def plot(X,\n",
    "         Y=None,\n",
    "         xlabel=None,\n",
    "         ylabel=None,\n",
    "         legend=[],\n",
    "         xlim=None,\n",
    "         ylim=None,\n",
    "         xscale='linear',\n",
    "         yscale='linear',\n",
    "         fmts=('-', 'm--', 'g-.', 'r:'),\n",
    "         figsize=(3.5, 2.5),\n",
    "         axes=None):\n",
    "    \"\"\"Plot data points.\"\"\"\n",
    "\n",
    "    def has_one_axis(X):\n",
    "        # True if `X` (tensor or list) has 1 axis\n",
    "        return (hasattr(X, \"ndim\") and X.ndim == 1\n",
    "                or isinstance(X, list) and not hasattr(X[0], \"__len__\"))\n",
    "\n",
    "    if has_one_axis(X):\n",
    "        X = [X]\n",
    "    if Y is None:\n",
    "        X, Y = [[]] * len(X), X\n",
    "    elif has_one_axis(Y):\n",
    "        Y = [Y]\n",
    "    if len(X) != len(Y):\n",
    "        set_figsize(figsize)\n",
    "    if axes is None:\n",
    "        axes = d2l.plt.gca()\n",
    "    axes.cla()\n",
    "    for x, y, fmt in zip(X, Y, fmts):\n",
    "        axes.plot(x, y, fmt) if len(x) else axes.plot(y, fmt)\n",
    "    set_axes(axes, xlabel, ylabel, xlim, ylim, xscale, yscale, legend)"
   ]
  },
  {
   "cell_type": "code",
   "execution_count": 81,
   "id": "1efdbae6",
   "metadata": {},
   "outputs": [
    {
     "data": {
      "image/png": "[encoded data removed]",
      "text/plain": [
       "<Figure size 640x480 with 1 Axes>"
      ]
     },
     "metadata": {},
     "output_type": "display_data"
    }
   ],
   "source": [
    "def f(x):\n",
    "    return np.sin(x)\n",
    "x = np.arange(0, 9, 0.1)\n",
    "x.attach_grad()\n",
    "with autograd.record():\n",
    "    y = f(x)\n",
    "y.backward()\n",
    "y_derivative = x.grad\n",
    "plot([x, x], [y, y_derivative], 'x', 'y', legend=['f(x) = sin(x)', \"f'(x)\"])"
   ]
  },
  {
   "cell_type": "markdown",
   "id": "c74ff443",
   "metadata": {},
   "source": [
    "## Exercise 5 + 6\n",
    "![exercises-5-6]( assets/exercises-5-6.jpg )"
   ]
  },
  {
   "cell_type": "markdown",
   "id": "09c443f0",
   "metadata": {},
   "source": [
    "## Exercise 7\n",
    "- *Forward differentiation*: \n",
    "  $$\\dfrac{\\partial h}{\\partial x}, \\dfrac{\\partial t}{\\partial x}, \\dfrac{\\partial g}{\\partial x} \\rightarrow \\dfrac{\\partial z}{\\partial x}  \\rightarrow \\dfrac{\\partial f}{\\partial x}$$\n",
    "- *Backward differentiation*:\n",
    "  $$\\dfrac{\\partial f}{\\partial z}, \\dfrac{\\partial f}{\\partial g} \\rightarrow \\dfrac{\\partial f}{\\partial h}, \\dfrac{\\partial f}{\\partial t} \\rightarrow \\dfrac{\\partial f}{\\partial x}$$"
   ]
  },
  {
   "cell_type": "markdown",
   "id": "c71f9498",
   "metadata": {},
   "source": [
    "## Exercise 8\n",
    "Suppose there are $n$ parameters $\\boldsymbol{x} = [x_1, x_2, \\dots, x_n]$ and you only want to calculate $\\dfrac{\\partial f}{\\partial x_i}$. Then you should use ***forward differentiation*** as it starts from $x_i$ and only calculate what's needed for $\\dfrac{\\partial f}{\\partial x_i}$ (the intermediate data needed is fewer). But if you want to compute the whole gradient, then use ***backward differentiation***. It computes data for every nodes in the dependency graph. If you use ***forward differentiation*** for each $x_i$ to compute the gradient then it would be slower (and duplicated computation if you don't save calculated ones)."
   ]
  }
 ],
 "metadata": {
  "kernelspec": {
   "display_name": "Python 3 (ipykernel)",
   "language": "python",
   "name": "python3"
  },
  "language_info": {
   "codemirror_mode": {
    "name": "ipython",
    "version": 3
   },
   "file_extension": ".py",
   "mimetype": "text/x-python",
   "name": "python",
   "nbconvert_exporter": "python",
   "pygments_lexer": "ipython3",
   "version": "3.9.13"
  }
 },
 "nbformat": 4,
 "nbformat_minor": 5
}
